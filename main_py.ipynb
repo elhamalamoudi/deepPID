{
  "nbformat": 4,
  "nbformat_minor": 0,
  "metadata": {
    "colab": {
      "name": "main.py",
      "provenance": [],
      "authorship_tag": "ABX9TyPXdlESn3QZ3gNzKSGhZXB5",
      "include_colab_link": true
    },
    "kernelspec": {
      "name": "python3",
      "display_name": "Python 3"
    }
  },
  "cells": [
    {
      "cell_type": "markdown",
      "metadata": {
        "id": "view-in-github",
        "colab_type": "text"
      },
      "source": [
        "<a href=\"https://colab.research.google.com/github/elhamalamoudi/deepPID/blob/master/main_py.ipynb\" target=\"_parent\"><img src=\"https://colab.research.google.com/assets/colab-badge.svg\" alt=\"Open In Colab\"/></a>"
      ]
    },
    {
      "cell_type": "code",
      "metadata": {
        "id": "MI-AMH4ZPWji",
        "colab_type": "code",
        "colab": {
          "base_uri": "https://localhost:8080/",
          "height": 367
        },
        "outputId": "4b683f53-07e1-4392-ba26-6c357f6169f4"
      },
      "source": [
        "from replay_buffer import ReplayBuffer\n",
        "import tensorflow as tf\n",
        "import numpy as np\n",
        "from ou_noise import OUNoise   \n",
        "from iddpg import IDDPG\n",
        "from td3 import TD3\n",
        "from robots import pioneer_pi\n",
        "# if in windows\n",
        "# import matplotlib\n",
        "# matplotlib.use('Agg')\n",
        "import matplotlib.pyplot as plt\n",
        "from utils import str2bool\n",
        "import argparse\n",
        "\n",
        "ACTOR_LEARNING_RATE = 0.0001\n",
        "CRITIC_LEARNING_RATE =  0.0001\n",
        "# Soft target update param\n",
        "TAU = 0.001\n",
        "\n",
        "\n",
        "\n",
        "parser = argparse.ArgumentParser('deepid')\n",
        "parser.add_argument('--gpu', type=str, choices=['gpu', 'cpu'], default='cpu')\n",
        "parser.add_argument('--alg', type=str, choices=['iddpg', 'ddpg', 'itd3'], default='iddpg')\n",
        "parser.add_argument('--epochs', type=int, default=500)\n",
        "parser.add_argument('--sim', type=int, default=100)\n",
        "parser.add_argument('--epsilon', type=float, default=1.)\n",
        "parser.add_argument(\"--train\", type=str2bool, nargs='?', const=True, default=True, help=\"Activate train mode.\")\n",
        "parser.add_argument(\"--img\", type=str2bool, nargs='?', const=True, default=True, help=\"Activate save image.\")\n",
        "parser.add_argument(\"--reset\", type=str2bool, nargs='?', const=True, default=True, help=\"resets after each episode.\")\n",
        "parser.add_argument(\"--simulation\", type=str2bool, nargs='?', const=True, default=True, help=\"Is this run on gazebo or in the real vehicel.\")\n",
        "parser.add_argument(\"--load\", type=str2bool, nargs='?', const=True, default=False, help=\"Loads policy.\")\n",
        "parser.add_argument('--epsilon_decay', type=float, default=0.0002)\n",
        "parser.add_argument('--psi', type=float, default=1.)\n",
        "parser.add_argument('--pid', type=str, choices=['pid', 'pi'], default='pi')\n",
        "parser.add_argument('--max_action', type=float, default=50.)\n",
        "parser.add_argument('--min_action', type=float, default=0.0001)\n",
        "parser.add_argument('--seed', type=int, default=51234)\n",
        "parser.add_argument('--save_mod', type=int, default=500)\n",
        "args = parser.parse_args()    \n",
        "\n",
        "\n",
        "\n",
        "alg = args.alg\n",
        "DEVICE = args.gpu\n",
        "max_action = args.max_action\n",
        "min_action = args.min_action\n",
        "epochs = args.epochs\n",
        "epsilon = args.epsilon\n",
        "min_epsilon = 0.1\n",
        "decay_rate =  args.epsilon_decay # 0.9/ num of episodes until min_epsilon (0.1)\n",
        "BUFFER_SIZE = 100000\n",
        "RANDOM_SEED = args.seed\n",
        "MINIBATCH_SIZE = 64\n",
        "PSI = args.psi\n",
        "save_mod = args.save_mod\n",
        "\n",
        "\n",
        "\n",
        "with tf.Session() as sess:\n",
        "    np.random.seed(RANDOM_SEED)\n",
        "    tf.set_random_seed(RANDOM_SEED)\n",
        "    \n",
        "    state_dim = 20 + 2 +4\n",
        "    action_dim = 4\n",
        "    robot = pioneer_pi(\"pioneer\", n_actions=action_dim,save_image=False, dt=0.1, Teval = 1, simulation=args.simulation,reset=args.reset, ep_length = args.sim)  \n",
        "    if alg == 'iddpg':\n",
        "        low = IDDPG(sess, state_dim, action_dim, max_action, min_action, ACTOR_LEARNING_RATE,CRITIC_LEARNING_RATE, TAU, RANDOM_SEED, device=DEVICE)\n",
        "    elif  alg == 'itd3':   \n",
        "        low = TD3(sess, state_dim, action_dim, max_action, min_action, ACTOR_LEARNING_RATE,CRITIC_LEARNING_RATE, TAU, RANDOM_SEED, device=DEVICE)\n",
        "    else:\n",
        "        raise NotImplementedError    \n",
        "\n",
        "\n",
        "    sess.run(tf.global_variables_initializer())\n",
        "    if args.load:\n",
        "        low.load()\n",
        "    \n",
        "    replay_buffer = ReplayBuffer(BUFFER_SIZE, RANDOM_SEED)\n",
        "    ruido = OUNoise(action_dim, mu = 0.0)\n",
        "    total_ep_reward = np.zeros(epochs)\n",
        "    for i in range(epochs):\n",
        "        \n",
        "        # define goal \n",
        "        # option 1: sample from especific velocities \n",
        "        sample_vx = np.array([0.,.1,.2,.3,.4,.5,.15,.25,.35,.45,0.,-.1,-.2,-.3,-.4,-.5,-.15,-.25,-.35,-.45])\n",
        "        sample_wz = np.array([0.,.1,.2,.3,.15,.25,0.,-.1,-.2,-.3,-.15,-.25,])\n",
        "        velocity_req = np.array([np.random.choice(sample_vx), np.random.choice(sample_wz)]) \n",
        "        # option 2: all random (problem is you get velocities like 0.08 which make no sense)\n",
        "        # velocity_req = np.array([np.random.rand(1)[0] -.5, 0.4*np.random.rand(1)[0] -.2]) \n",
        "        # Option 3: Define a specific velocity\n",
        "        # velocity_req = np.array([0.21,0.11]) \n",
        "\n",
        "        # Initial state\n",
        "        action = np.zeros(action_dim)\n",
        "        position, velocities, u = robot.reset() # velocities = np.zeros((10,6))\n",
        "        robot.get_set_point(velocity_req)\n",
        "        velocity_error = np.subtract(velocities[9], velocity_req)\n",
        "        state = np.reshape(np.vstack((velocity_error,velocities,np.reshape(action,(2,2)))),(state_dim,))\n",
        "\n",
        "\n",
        "        done = False\n",
        "        epsilon -= decay_rate\n",
        "        epsilon = np.maximum(min_epsilon,epsilon)\n",
        "        episode_r = 0.\n",
        "        step = 0\n",
        "        action_buffer = np.zeros(((args.sim+1),action_dim))\n",
        "        velocity_buffer = np.zeros(((args.sim+1)*10,2))\n",
        "        r_vector = np.zeros(args.sim+1)\n",
        "\n",
        "        while (not done):\n",
        "            \n",
        "            action = low.predict_action(np.reshape(state,(1,state_dim)))[0]\n",
        "            action = np.clip(action,min_action,max_action)\n",
        "            action = action + max(4.*epsilon,0)*ruido.noise()\n",
        "            action = np.clip(action,min_action,max_action)\n",
        "            \n",
        "            \n",
        "            new_position, new_velocities, u = robot.run(action)   \n",
        "            # this should all go to the robot.run \n",
        "            velocity_error = np.subtract(new_velocities[9], velocity_req)\n",
        "            next_state = np.reshape(np.vstack((new_velocities,velocity_error,np.reshape(action,(2,2)))),(state_dim,))\n",
        "            reward, done = robot.get_reward_v2(new_velocities,velocity_req,step)\n",
        "\n",
        "            action_buffer[step] = action\n",
        "\n",
        "            \n",
        "            j = step*10\n",
        "            velocity_buffer[j] = new_velocities[0]\n",
        "            velocity_buffer[j+1] = new_velocities[1]\n",
        "            velocity_buffer[j+2] = new_velocities[2]\n",
        "            velocity_buffer[j+3] = new_velocities[3]\n",
        "            velocity_buffer[j+4] = new_velocities[4]\n",
        "            velocity_buffer[j+5] = new_velocities[5]\n",
        "            velocity_buffer[j+6] = new_velocities[6]\n",
        "            velocity_buffer[j+7] = new_velocities[7]\n",
        "            velocity_buffer[j+8] = new_velocities[8]\n",
        "            velocity_buffer[j+9] = new_velocities[9]\n",
        "            r_vector[step] = reward\n",
        "            \n",
        "\n",
        "            replay_buffer.add(np.reshape(state, (state_dim,)), np.reshape(action, (action_dim,)), reward,\n",
        "                                  done, np.reshape(next_state, (state_dim,)))\n",
        "            state = next_state\n",
        "            step += 1\n",
        "            episode_r = episode_r + reward\n",
        "            if replay_buffer.size() > MINIBATCH_SIZE:\n",
        "                s_batch, a_batch, r_batch, t_batch, s2_batch = replay_buffer.sample_batch(MINIBATCH_SIZE)\n",
        "                low.train(s_batch, a_batch, r_batch, t_batch, s2_batch,MINIBATCH_SIZE)\n",
        "\n",
        "        print(i, step, 'last r', round(reward,3), 'epsilon', round(epsilon,3),'episode reward','**',round(episode_r,3),'**' )                \n",
        "        print('req', velocity_req, 'last v', np.round(new_velocities[9],3))\n",
        "        ruido.reset()\n",
        "        robot.reset()\n",
        "        total_ep_reward[i] = episode_r\n",
        "        # np.save('velocity-buff.np',velocity_buffer)\n",
        "        if i%save_mod==0:\n",
        "            np.save('figs/velocity_buffer' + str(i), velocity_buffer)\n",
        "            np.save('figs/action_buffer' + str(i), action_buffer)\n",
        "            \n",
        "            plt.plot(action_buffer)\n",
        "            plt.legend(['kp1','ki1','kp2','ki2'])\n",
        "            plt.savefig('figs/action' + str(i) + '.png')\n",
        "            # plt.savefig('action.png')\n",
        "            # plt.show()\n",
        "            plt.clf()\n",
        "            \n",
        "            plt.plot(velocity_buffer)\n",
        "            plt.legend(['vx = ' + str(np.round(robot.set_point[0],2)) ,'wz = '+ str(np.round(robot.set_point[1],2))])\n",
        "            plt.savefig('figs/velocity' + str(i) + '.png')\n",
        "            # plt.savefig('velocity.png')\n",
        "            # plt.show()\n",
        "            plt.clf()\n",
        "            \n",
        "            np.save('velocity-buff',velocity_buffer)\n",
        "            np.save('action_buf',action_buffer)\n",
        "            np.save('r_vector',r_vector)\n",
        "\n",
        "    print('total_av_reward' , np.mean(total_ep_reward))\n",
        "\n",
        "    low.save()"
      ],
      "execution_count": null,
      "outputs": [
        {
          "output_type": "error",
          "ename": "ModuleNotFoundError",
          "evalue": "ignored",
          "traceback": [
            "\u001b[0;31m---------------------------------------------------------------------------\u001b[0m",
            "\u001b[0;31mModuleNotFoundError\u001b[0m                       Traceback (most recent call last)",
            "\u001b[0;32m<ipython-input-1-b4e0fc14c380>\u001b[0m in \u001b[0;36m<module>\u001b[0;34m()\u001b[0m\n\u001b[0;32m----> 1\u001b[0;31m \u001b[0;32mfrom\u001b[0m \u001b[0mreplay_buffer\u001b[0m \u001b[0;32mimport\u001b[0m \u001b[0mReplayBuffer\u001b[0m\u001b[0;34m\u001b[0m\u001b[0;34m\u001b[0m\u001b[0m\n\u001b[0m\u001b[1;32m      2\u001b[0m \u001b[0;32mimport\u001b[0m \u001b[0mtensorflow\u001b[0m \u001b[0;32mas\u001b[0m \u001b[0mtf\u001b[0m\u001b[0;34m\u001b[0m\u001b[0;34m\u001b[0m\u001b[0m\n\u001b[1;32m      3\u001b[0m \u001b[0;32mimport\u001b[0m \u001b[0mnumpy\u001b[0m \u001b[0;32mas\u001b[0m \u001b[0mnp\u001b[0m\u001b[0;34m\u001b[0m\u001b[0;34m\u001b[0m\u001b[0m\n\u001b[1;32m      4\u001b[0m \u001b[0;32mfrom\u001b[0m \u001b[0mou_noise\u001b[0m \u001b[0;32mimport\u001b[0m \u001b[0mOUNoise\u001b[0m\u001b[0;34m\u001b[0m\u001b[0;34m\u001b[0m\u001b[0m\n\u001b[1;32m      5\u001b[0m \u001b[0;32mfrom\u001b[0m \u001b[0middpg\u001b[0m \u001b[0;32mimport\u001b[0m \u001b[0mIDDPG\u001b[0m\u001b[0;34m\u001b[0m\u001b[0;34m\u001b[0m\u001b[0m\n",
            "\u001b[0;31mModuleNotFoundError\u001b[0m: No module named 'replay_buffer'",
            "",
            "\u001b[0;31m---------------------------------------------------------------------------\u001b[0;32m\nNOTE: If your import is failing due to a missing package, you can\nmanually install dependencies using either !pip or !apt.\n\nTo view examples of installing some common dependencies, click the\n\"Open Examples\" button below.\n\u001b[0;31m---------------------------------------------------------------------------\u001b[0m\n"
          ]
        }
      ]
    },
    {
      "cell_type": "code",
      "metadata": {
        "id": "ovPsI3a8XniX",
        "colab_type": "code",
        "colab": {
          "base_uri": "https://localhost:8080/",
          "height": 119
        },
        "outputId": "e78456d2-262a-45af-dc30-0a1fa90cb102"
      },
      "source": [
        "# Clone the entire repo.\n",
        "!git clone -l -s git://https://github.com/IgnacioCarlucho/deepPID.git cloned-repo\n",
        "%cd cloned-repo\n",
        "!ls"
      ],
      "execution_count": null,
      "outputs": [
        {
          "output_type": "stream",
          "text": [
            "Cloning into 'cloned-repo'...\n",
            "warning: --local is ignored\n",
            "fatal: Unable to look up https (port 9418) (Name or service not known)\n",
            "[Errno 2] No such file or directory: 'cloned-repo'\n",
            "/content\n",
            "sample_data\n"
          ],
          "name": "stdout"
        }
      ]
    },
    {
      "cell_type": "code",
      "metadata": {
        "id": "9edh_frOGs0u",
        "colab_type": "code",
        "colab": {
          "base_uri": "https://localhost:8080/",
          "height": 85
        },
        "outputId": "365120c7-3e8b-4196-c302-328316548b9f"
      },
      "source": [
        "# Clone the entire repo.\n",
        "!git clone -l -s git://https://github.com/IgnacioCarlucho/deepPID\n",
        "%cd \n",
        "!ls"
      ],
      "execution_count": null,
      "outputs": [
        {
          "output_type": "stream",
          "text": [
            "Cloning into 'deepPID'...\n",
            "warning: --local is ignored\n",
            "fatal: Unable to look up https (port 9418) (Name or service not known)\n",
            "/root\n"
          ],
          "name": "stdout"
        }
      ]
    },
    {
      "cell_type": "code",
      "metadata": {
        "id": "seFcCrXSGs0L",
        "colab_type": "code",
        "colab": {}
      },
      "source": [
        "# Fetch a single <1MB file using the raw GitHub URL.\n",
        "!curl --remote-name \\\n",
        "     -H 'Accept: application/vnd.github.v3.raw' \\\n",
        "     --location https://api.github.com/repos/jakevdp/PythonDataScienceHandbook/contents/notebooks/data/california_cities.csv"
      ],
      "execution_count": null,
      "outputs": []
    },
    {
      "cell_type": "code",
      "metadata": {
        "id": "NztBqsLvXnh-",
        "colab_type": "code",
        "colab": {
          "base_uri": "https://localhost:8080/",
          "height": 68
        },
        "outputId": "aae06def-3673-4bee-c850-6a2d7ceff963"
      },
      "source": [
        "# Fetch a single <1MB file using the raw GitHub URL.\n",
        "!curl --remote-name \\\n",
        "     -H 'Accept: application/vnd.github.v3.raw' \\\n",
        "     --location https://github.com/IgnacioCarlucho/deepPID/blob/master/main.py"
      ],
      "execution_count": null,
      "outputs": [
        {
          "output_type": "stream",
          "text": [
            "  % Total    % Received % Xferd  Average Speed   Time    Time     Time  Current\n",
            "                                 Dload  Upload   Total   Spent    Left  Speed\n",
            "\r  0     0    0     0    0     0      0      0 --:--:-- --:--:-- --:--:--     0\r  0     0    0     0    0     0      0      0 --:--:-- --:--:-- --:--:--     0\r100  142k    0  142k    0     0   376k      0 --:--:-- --:--:-- --:--:--  375k\n"
          ],
          "name": "stdout"
        }
      ]
    }
  ]
}